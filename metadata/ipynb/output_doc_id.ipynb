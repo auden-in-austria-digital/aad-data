{
 "cells": [
  {
   "cell_type": "code",
   "execution_count": 3,
   "metadata": {},
   "outputs": [],
   "source": [
    "import pandas as pd  # import pandas library\n",
    "import matplotlib.pyplot as plt  # import pyplot submodule of matplotlib library"
   ]
  },
  {
   "cell_type": "code",
   "execution_count": 4,
   "metadata": {},
   "outputs": [],
   "source": [
    "csv_url = 'https://raw.githubusercontent.com/auden-in-austria-digital/aad-data/dev/metadata/csv/output_doc_id.csv'\n",
    "\n",
    "df = pd.read_csv(csv_url)  # read input csv file into pandas dataframe"
   ]
  },
  {
   "cell_type": "code",
   "execution_count": 5,
   "metadata": {},
   "outputs": [
    {
     "data": {
      "text/plain": [
       "doc               0\n",
       "ed                0\n",
       "img               0\n",
       "lrx               0\n",
       "lry               0\n",
       "width             0\n",
       "height            0\n",
       "type              0\n",
       "title             0\n",
       "author            0\n",
       "author-uri        0\n",
       "notBefore-iso     0\n",
       "notAfter-iso      0\n",
       "place             0\n",
       "place-uri         0\n",
       "repository        0\n",
       "repository-uri    0\n",
       "collection        0\n",
       "idno              0\n",
       "dtype: int64"
      ]
     },
     "execution_count": 5,
     "metadata": {},
     "output_type": "execute_result"
    }
   ],
   "source": [
    "df.isnull().sum()  # check dataframe for missing values"
   ]
  },
  {
   "cell_type": "code",
   "execution_count": 6,
   "metadata": {},
   "outputs": [
    {
     "name": "stdout",
     "output_type": "stream",
     "text": [
      "<class 'pandas.core.frame.DataFrame'>\n",
      "RangeIndex: 60 entries, 0 to 59\n",
      "Data columns (total 19 columns):\n",
      " #   Column          Non-Null Count  Dtype \n",
      "---  ------          --------------  ----- \n",
      " 0   doc             60 non-null     int64 \n",
      " 1   ed              60 non-null     object\n",
      " 2   img             60 non-null     int64 \n",
      " 3   lrx             60 non-null     int64 \n",
      " 4   lry             60 non-null     int64 \n",
      " 5   width           60 non-null     int64 \n",
      " 6   height          60 non-null     int64 \n",
      " 7   type            60 non-null     object\n",
      " 8   title           60 non-null     object\n",
      " 9   author          60 non-null     object\n",
      " 10  author-uri      60 non-null     object\n",
      " 11  notBefore-iso   60 non-null     object\n",
      " 12  notAfter-iso    60 non-null     object\n",
      " 13  place           60 non-null     object\n",
      " 14  place-uri       60 non-null     object\n",
      " 15  repository      60 non-null     object\n",
      " 16  repository-uri  60 non-null     object\n",
      " 17  collection      60 non-null     object\n",
      " 18  idno            60 non-null     object\n",
      "dtypes: int64(6), object(13)\n",
      "memory usage: 9.0+ KB\n"
     ]
    }
   ],
   "source": [
    "df.info()  # display dataframe core information"
   ]
  }
 ],
 "metadata": {
  "kernelspec": {
   "display_name": "Python 3",
   "language": "python",
   "name": "python3"
  },
  "language_info": {
   "codemirror_mode": {
    "name": "ipython",
    "version": 3
   },
   "file_extension": ".py",
   "mimetype": "text/x-python",
   "name": "python",
   "nbconvert_exporter": "python",
   "pygments_lexer": "ipython3",
   "version": "3.10.0"
  }
 },
 "nbformat": 4,
 "nbformat_minor": 2
}
