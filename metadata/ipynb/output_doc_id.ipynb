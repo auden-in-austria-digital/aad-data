{
 "cells": [
  {
   "cell_type": "markdown",
   "metadata": {},
   "source": [
    "### Inspect `output_doc_id.csv`"
   ]
  },
  {
   "cell_type": "markdown",
   "metadata": {},
   "source": [
    "Import libraries"
   ]
  },
  {
   "cell_type": "code",
   "execution_count": 1,
   "metadata": {
    "execution": {
     "iopub.execute_input": "2024-09-11T08:25:19.324275Z",
     "iopub.status.busy": "2024-09-11T08:25:19.324083Z",
     "iopub.status.idle": "2024-09-11T08:25:21.969726Z",
     "shell.execute_reply": "2024-09-11T08:25:21.969077Z"
    }
   },
   "outputs": [],
   "source": [
    "import pandas as pd  # import pandas library\n",
    "import matplotlib.pyplot as plt  # import pyplot submodule of matplotlib library"
   ]
  },
  {
   "cell_type": "markdown",
   "metadata": {},
   "source": [
    "Read CSV into pandas DataFrame"
   ]
  },
  {
   "cell_type": "code",
   "execution_count": 2,
   "metadata": {
    "execution": {
     "iopub.execute_input": "2024-09-11T08:25:21.972603Z",
     "iopub.status.busy": "2024-09-11T08:25:21.972355Z",
     "iopub.status.idle": "2024-09-11T08:25:21.979201Z",
     "shell.execute_reply": "2024-09-11T08:25:21.978705Z"
    }
   },
   "outputs": [],
   "source": [
    "df = pd.read_csv('../csv/output_doc_id.csv', dtype={'doc': 'str'})  # retain string format for doc values"
   ]
  },
  {
   "cell_type": "markdown",
   "metadata": {},
   "source": [
    "Check for missing DataFrame values"
   ]
  },
  {
   "cell_type": "code",
   "execution_count": 3,
   "metadata": {
    "execution": {
     "iopub.execute_input": "2024-09-11T08:25:21.981713Z",
     "iopub.status.busy": "2024-09-11T08:25:21.981271Z",
     "iopub.status.idle": "2024-09-11T08:25:21.988781Z",
     "shell.execute_reply": "2024-09-11T08:25:21.988136Z"
    }
   },
   "outputs": [
    {
     "data": {
      "text/plain": [
       "doc               0\n",
       "ed                0\n",
       "img               0\n",
       "lrx               0\n",
       "lry               0\n",
       "width             0\n",
       "height            0\n",
       "type              0\n",
       "title             0\n",
       "author            0\n",
       "author-uri        0\n",
       "notBefore-iso     0\n",
       "notAfter-iso      0\n",
       "place             0\n",
       "place-uri         0\n",
       "repository        0\n",
       "repository-uri    0\n",
       "collection        0\n",
       "idno              0\n",
       "dtype: int64"
      ]
     },
     "execution_count": 3,
     "metadata": {},
     "output_type": "execute_result"
    }
   ],
   "source": [
    "df.isnull().sum()  # return True for `None` and `NaN`; sum up null values"
   ]
  },
  {
   "cell_type": "markdown",
   "metadata": {},
   "source": [
    "Display DataFrame information"
   ]
  },
  {
   "cell_type": "code",
   "execution_count": 4,
   "metadata": {
    "execution": {
     "iopub.execute_input": "2024-09-11T08:25:22.024536Z",
     "iopub.status.busy": "2024-09-11T08:25:22.024102Z",
     "iopub.status.idle": "2024-09-11T08:25:22.032183Z",
     "shell.execute_reply": "2024-09-11T08:25:22.031597Z"
    }
   },
   "outputs": [
    {
     "name": "stdout",
     "output_type": "stream",
     "text": [
      "<class 'pandas.core.frame.DataFrame'>\n",
      "RangeIndex: 80 entries, 0 to 79\n",
      "Data columns (total 19 columns):\n",
      " #   Column          Non-Null Count  Dtype \n",
      "---  ------          --------------  ----- \n",
      " 0   doc             80 non-null     object\n",
      " 1   ed              80 non-null     object\n",
      " 2   img             80 non-null     int64 \n",
      " 3   lrx             80 non-null     int64 \n",
      " 4   lry             80 non-null     int64 \n",
      " 5   width           80 non-null     int64 \n",
      " 6   height          80 non-null     int64 \n",
      " 7   type            80 non-null     object\n",
      " 8   title           80 non-null     object\n",
      " 9   author          80 non-null     object\n",
      " 10  author-uri      80 non-null     object\n",
      " 11  notBefore-iso   80 non-null     object\n",
      " 12  notAfter-iso    80 non-null     object\n",
      " 13  place           80 non-null     object\n",
      " 14  place-uri       80 non-null     object\n",
      " 15  repository      80 non-null     object\n",
      " 16  repository-uri  80 non-null     object\n",
      " 17  collection      80 non-null     object\n",
      " 18  idno            80 non-null     object\n",
      "dtypes: int64(5), object(14)\n",
      "memory usage: 12.0+ KB\n"
     ]
    }
   ],
   "source": [
    "df.info()"
   ]
  },
  {
   "cell_type": "markdown",
   "metadata": {},
   "source": [
    "### Clean and visualize data"
   ]
  },
  {
   "cell_type": "markdown",
   "metadata": {},
   "source": [
    "Clean DataFrame"
   ]
  },
  {
   "cell_type": "code",
   "execution_count": 5,
   "metadata": {
    "execution": {
     "iopub.execute_input": "2024-09-11T08:25:22.034628Z",
     "iopub.status.busy": "2024-09-11T08:25:22.034430Z",
     "iopub.status.idle": "2024-09-11T08:25:22.042434Z",
     "shell.execute_reply": "2024-09-11T08:25:22.041824Z"
    }
   },
   "outputs": [
    {
     "name": "stdout",
     "output_type": "stream",
     "text": [
      "            author         place              notBefore-iso\n",
      "doc                                                        \n",
      "0001  Auden, W. H.  Kirchstetten  1960-07-25T00:00:00+01:00\n",
      "0002  Auden, W. H.  Kirchstetten  1964-09-08T00:00:00+01:00\n",
      "0003  Auden, W. H.  Kirchstetten  1965-05-24T00:00:00+01:00\n",
      "0004  Auden, W. H.  Kirchstetten  1964-10-07T00:00:00+01:00\n",
      "0005  Auden, W. H.  Kirchstetten  1967-05-09T00:00:00+01:00\n",
      "0006  Auden, W. H.  Kirchstetten  1967-06-05T00:00:00+01:00\n",
      "0007  Auden, W. H.  Kirchstetten  1965-07-28T00:00:00+01:00\n",
      "0008  Auden, W. H.        Berlin  1965-04-16T00:00:00+01:00\n",
      "0009  Auden, W. H.  Kirchstetten  1966-06-29T00:00:00+01:00\n",
      "0010  Auden, W. H.  Kirchstetten  1969-08-27T00:00:00+01:00\n",
      "0011  Auden, W. H.  Kirchstetten  1965-06-27T00:00:00+01:00\n",
      "0012  Auden, W. H.        Berlin  1964-11-08T00:00:00+01:00\n",
      "0013  Auden, W. H.  Kirchstetten  1969-08-20T00:00:00+01:00\n",
      "0014  Auden, W. H.        Berlin  1964-12-08T00:00:00+01:00\n",
      "0015  Auden, W. H.  Kirchstetten  1964-06-25T00:00:00+01:00\n",
      "0016  Auden, W. H.  Kirchstetten  1968-08-26T00:00:00+01:00\n",
      "0017  Auden, W. H.  Kirchstetten  1965-08-16T00:00:00+01:00\n",
      "0018  Auden, W. H.  Kirchstetten  1964-06-19T00:00:00+01:00\n",
      "0019  Auden, W. H.  Kirchstetten  1966-05-04T00:00:00+01:00\n",
      "0020  Auden, W. H.  Kirchstetten  1965-08-04T00:00:00+01:00\n"
     ]
    }
   ],
   "source": [
    "df_clean = df.drop_duplicates(subset='doc')[['doc', 'author', 'place', 'notBefore-iso']]  # drop subsequent rows with duplicate values in doc column\n",
    "\n",
    "df_clean.set_index('doc', inplace=True)  # set doc values as index in cleaned dataframe\n",
    "\n",
    "pd.set_option('display.max_rows', None)  # print clean one-row-per-document dataframe\n",
    "print(df_clean)\n"
   ]
  },
  {
   "cell_type": "markdown",
   "metadata": {},
   "source": [
    "Convert date strings to datetime objects"
   ]
  },
  {
   "cell_type": "code",
   "execution_count": 6,
   "metadata": {
    "execution": {
     "iopub.execute_input": "2024-09-11T08:25:22.045006Z",
     "iopub.status.busy": "2024-09-11T08:25:22.044634Z",
     "iopub.status.idle": "2024-09-11T08:25:22.052318Z",
     "shell.execute_reply": "2024-09-11T08:25:22.051666Z"
    }
   },
   "outputs": [
    {
     "data": {
      "text/plain": [
       "np.int64(0)"
      ]
     },
     "execution_count": 6,
     "metadata": {},
     "output_type": "execute_result"
    }
   ],
   "source": [
    "df_clean['notBefore-iso'] = pd.to_datetime(df_clean['notBefore-iso'], errors='coerce')  # convert strings in notBefore-iso column to datetime objects; replace invalid string values with NaT values\n",
    "\n",
    "df_clean['notBefore-iso'].isnull().sum()  # check for NaT values"
   ]
  },
  {
   "cell_type": "markdown",
   "metadata": {},
   "source": [
    "Resample DataFrame"
   ]
  },
  {
   "cell_type": "code",
   "execution_count": 7,
   "metadata": {
    "execution": {
     "iopub.execute_input": "2024-09-11T08:25:22.054772Z",
     "iopub.status.busy": "2024-09-11T08:25:22.054414Z",
     "iopub.status.idle": "2024-09-11T08:25:22.062986Z",
     "shell.execute_reply": "2024-09-11T08:25:22.062375Z"
    }
   },
   "outputs": [],
   "source": [
    "df_clean.set_index('notBefore-iso', inplace=True)  # set date values as index in cleaned dataframe\n",
    "\n",
    "monthly_counts = df_clean.resample('ME').size()  # resample into groups by month; count document number per group in pandas series\n",
    "\n",
    "monthly_counts = monthly_counts.fillna(0)  # replace NULL values in series with value 0"
   ]
  },
  {
   "cell_type": "markdown",
   "metadata": {},
   "source": [
    "Plot documents per month"
   ]
  },
  {
   "cell_type": "code",
   "execution_count": 8,
   "metadata": {
    "execution": {
     "iopub.execute_input": "2024-09-11T08:25:22.065646Z",
     "iopub.status.busy": "2024-09-11T08:25:22.065339Z",
     "iopub.status.idle": "2024-09-11T08:25:22.486155Z",
     "shell.execute_reply": "2024-09-11T08:25:22.485424Z"
    }
   },
   "outputs": [
    {
     "data": {
      "image/png": "[encoded data removed]",
      "text/plain": [
       "<Figure size 1000x500 with 1 Axes>"
      ]
     },
     "metadata": {},
     "output_type": "display_data"
    }
   ],
   "source": [
    "plt.figure(figsize=(10, 5))  # initialize figure with dimensions in inches\n",
    "\n",
    "monthly_counts.plot(kind='line', marker='.', linestyle='None', color='c')  # plot series in line plot; setting point markers, no lines, cyan color\n",
    "\n",
    "plt.gca().yaxis.set_major_locator(plt.MaxNLocator(integer=True))  # retrieve axes; set major y-axis ticks to show integers\n",
    "\n",
    "# add labels\n",
    "plt.title('number of documents per month')\n",
    "plt.xlabel('time')\n",
    "plt.ylabel('number')\n",
    "\n",
    "\n",
    "plt.grid(True)  # display grid lines\n",
    "\n",
    "plt.tight_layout()  # automatically adjust spacing between figure elements\n",
    "\n",
    "# Show the plot\n",
    "plt.show()  # display plot"
   ]
  }
 ],
 "metadata": {
  "kernelspec": {
   "display_name": "Python 3",
   "language": "python",
   "name": "python3"
  },
  "language_info": {
   "codemirror_mode": {
    "name": "ipython",
    "version": 3
   },
   "file_extension": ".py",
   "mimetype": "text/x-python",
   "name": "python",
   "nbconvert_exporter": "python",
   "pygments_lexer": "ipython3",
   "version": "3.10.14"
  }
 },
 "nbformat": 4,
 "nbformat_minor": 2
}
