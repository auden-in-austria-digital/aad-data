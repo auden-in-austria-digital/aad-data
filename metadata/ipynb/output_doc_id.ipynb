{
 "cells": [
  {
   "cell_type": "markdown",
   "metadata": {},
   "source": [
    "Import libraries"
   ]
  },
  {
   "cell_type": "code",
   "execution_count": 39,
   "metadata": {},
   "outputs": [],
   "source": [
    "import pandas as pd  # import pandas library\n",
    "import matplotlib.pyplot as plt  # import pyplot submodule of matplotlib library"
   ]
  },
  {
   "cell_type": "markdown",
   "metadata": {},
   "source": [
    "Read CSV into pandas DataFrame"
   ]
  },
  {
   "cell_type": "code",
   "execution_count": 40,
   "metadata": {},
   "outputs": [],
   "source": [
    "csv_url = 'https://raw.githubusercontent.com/auden-in-austria-digital/aad-data/dev/metadata/csv/output_doc_id.csv'\n",
    "\n",
    "df = pd.read_csv(csv_url, dtype={'doc': 'str'})  # retain string format for doc values"
   ]
  },
  {
   "cell_type": "markdown",
   "metadata": {},
   "source": [
    "Check for missing DataFrame values"
   ]
  },
  {
   "cell_type": "code",
   "execution_count": 41,
   "metadata": {},
   "outputs": [
    {
     "data": {
      "text/plain": [
       "doc               0\n",
       "ed                0\n",
       "img               0\n",
       "lrx               0\n",
       "lry               0\n",
       "width             0\n",
       "height            0\n",
       "type              0\n",
       "title             0\n",
       "author            0\n",
       "author-uri        0\n",
       "notBefore-iso     0\n",
       "notAfter-iso      0\n",
       "place             0\n",
       "place-uri         0\n",
       "repository        0\n",
       "repository-uri    0\n",
       "collection        0\n",
       "idno              0\n",
       "dtype: int64"
      ]
     },
     "execution_count": 41,
     "metadata": {},
     "output_type": "execute_result"
    }
   ],
   "source": [
    "df.isnull().sum()  # return True for `None` and `NaN`; sum up null values"
   ]
  },
  {
   "cell_type": "markdown",
   "metadata": {},
   "source": [
    "Display DataFrame information"
   ]
  },
  {
   "cell_type": "code",
   "execution_count": 36,
   "metadata": {},
   "outputs": [
    {
     "name": "stdout",
     "output_type": "stream",
     "text": [
      "<class 'pandas.core.frame.DataFrame'>\n",
      "RangeIndex: 64 entries, 0 to 63\n",
      "Data columns (total 19 columns):\n",
      " #   Column          Non-Null Count  Dtype \n",
      "---  ------          --------------  ----- \n",
      " 0   doc             64 non-null     object\n",
      " 1   ed              64 non-null     object\n",
      " 2   img             64 non-null     int64 \n",
      " 3   lrx             64 non-null     int64 \n",
      " 4   lry             64 non-null     int64 \n",
      " 5   width           64 non-null     int64 \n",
      " 6   height          64 non-null     int64 \n",
      " 7   type            64 non-null     object\n",
      " 8   title           64 non-null     object\n",
      " 9   author          64 non-null     object\n",
      " 10  author-uri      64 non-null     object\n",
      " 11  notBefore-iso   64 non-null     object\n",
      " 12  notAfter-iso    64 non-null     object\n",
      " 13  place           64 non-null     object\n",
      " 14  place-uri       64 non-null     object\n",
      " 15  repository      64 non-null     object\n",
      " 16  repository-uri  64 non-null     object\n",
      " 17  collection      64 non-null     object\n",
      " 18  idno            64 non-null     object\n",
      "dtypes: int64(5), object(14)\n",
      "memory usage: 9.6+ KB\n"
     ]
    }
   ],
   "source": [
    "df.info()"
   ]
  },
  {
   "cell_type": "markdown",
   "metadata": {},
   "source": [
    "Convert date strings to datetime objects"
   ]
  },
  {
   "cell_type": "code",
   "execution_count": 37,
   "metadata": {},
   "outputs": [
    {
     "data": {
      "text/plain": [
       "np.int64(0)"
      ]
     },
     "execution_count": 43,
     "metadata": {},
     "output_type": "execute_result"
    }
   ],
   "source": [
    "df['notBefore-iso'] = pd.to_datetime(df['notBefore-iso'], errors='coerce')  # convert strings in notBefore-iso column to datetime objects; replace invalid string values with NaT values\n",
    "\n",
    "df['notBefore-iso'].isnull().sum()  # check for NaT values"
   ]
  },
  {
   "cell_type": "markdown",
   "metadata": {},
   "source": [
    "Clean DataFrame"
   ]
  },
  {
   "cell_type": "code",
   "execution_count": 38,
   "metadata": {},
   "outputs": [
    {
     "name": "stdout",
     "output_type": "stream",
     "text": [
      "     doc        author         place             notBefore-iso\n",
      "0   0001  Auden, W. H.  Kirchstetten 1960-07-25 00:00:00+01:00\n",
      "4   0002  Auden, W. H.  Kirchstetten 1964-09-08 00:00:00+01:00\n",
      "8   0003  Auden, W. H.  Kirchstetten 1965-05-24 00:00:00+01:00\n",
      "12  0004  Auden, W. H.  Kirchstetten 1964-10-07 00:00:00+01:00\n",
      "16  0005  Auden, W. H.  Kirchstetten 1967-05-09 00:00:00+01:00\n",
      "20  0006  Auden, W. H.  Kirchstetten 1967-06-05 00:00:00+01:00\n",
      "24  0007  Auden, W. H.  Kirchstetten 1965-07-28 00:00:00+01:00\n",
      "28  0008  Auden, W. H.        Berlin 1965-04-16 00:00:00+01:00\n",
      "32  0009  Auden, W. H.  Kirchstetten 1966-06-29 00:00:00+01:00\n",
      "36  0010  Auden, W. H.  Kirchstetten 1969-08-27 00:00:00+01:00\n",
      "40  0011  Auden, W. H.  Kirchstetten 1965-06-27 00:00:00+01:00\n",
      "44  0012  Auden, W. H.        Berlin 1964-11-08 00:00:00+01:00\n",
      "48  0013  Auden, W. H.  Kirchstetten 1969-08-20 00:00:00+01:00\n",
      "52  0014  Auden, W. H.        Berlin 1964-12-08 00:00:00+01:00\n",
      "56  0015  Auden, W. H.  Kirchstetten 1964-06-25 00:00:00+01:00\n",
      "60  0016  Auden, W. H.  Kirchstetten 1968-08-26 00:00:00+01:00\n"
     ]
    }
   ],
   "source": [
    "df_clean = df.drop_duplicates(subset='doc')[['doc','author', 'place', 'notBefore-iso']]  # drop rows with duplicate values in doc column\n",
    "\n",
    "pd.set_option('display.max_rows', None)  # print clean one-row-per-document dataframe\n",
    "print(df_clean)\n"
   ]
  }
 ],
 "metadata": {
  "kernelspec": {
   "display_name": "Python 3",
   "language": "python",
   "name": "python3"
  },
  "language_info": {
   "codemirror_mode": {
    "name": "ipython",
    "version": 3
   },
   "file_extension": ".py",
   "mimetype": "text/x-python",
   "name": "python",
   "nbconvert_exporter": "python",
   "pygments_lexer": "ipython3",
   "version": "3.10.0"
  }
 },
 "nbformat": 4,
 "nbformat_minor": 2
}
