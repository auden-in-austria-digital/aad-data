{
 "cells": [
  {
   "cell_type": "markdown",
   "metadata": {},
   "source": [
    "### Inspect `input_img_id.csv`"
   ]
  },
  {
   "cell_type": "markdown",
   "metadata": {},
   "source": [
    "Import libraries"
   ]
  },
  {
   "cell_type": "code",
   "execution_count": 1,
   "metadata": {
    "execution": {
     "iopub.execute_input": "2024-09-12T13:54:49.794426Z",
     "iopub.status.busy": "2024-09-12T13:54:49.794235Z",
     "iopub.status.idle": "2024-09-12T13:54:50.627619Z",
     "shell.execute_reply": "2024-09-12T13:54:50.627005Z"
    }
   },
   "outputs": [],
   "source": [
    "import pandas as pd  # import pandas library\n",
    "import matplotlib.pyplot as plt  # import pyplot submodule of matplotlib library"
   ]
  },
  {
   "cell_type": "markdown",
   "metadata": {},
   "source": [
    "Read CSV into pandas DataFrame"
   ]
  },
  {
   "cell_type": "code",
   "execution_count": 2,
   "metadata": {
    "execution": {
     "iopub.execute_input": "2024-09-12T13:54:50.630571Z",
     "iopub.status.busy": "2024-09-12T13:54:50.630277Z",
     "iopub.status.idle": "2024-09-12T13:54:50.637237Z",
     "shell.execute_reply": "2024-09-12T13:54:50.636726Z"
    }
   },
   "outputs": [],
   "source": [
    "df = pd.read_csv('../csv/input_img_id.csv', dtype={'doc': 'str'})  # retain string format for doc values"
   ]
  },
  {
   "cell_type": "markdown",
   "metadata": {},
   "source": [
    "Check for missing DataFrame values"
   ]
  },
  {
   "cell_type": "code",
   "execution_count": 3,
   "metadata": {
    "execution": {
     "iopub.execute_input": "2024-09-12T13:54:50.639994Z",
     "iopub.status.busy": "2024-09-12T13:54:50.639609Z",
     "iopub.status.idle": "2024-09-12T13:54:50.647182Z",
     "shell.execute_reply": "2024-09-12T13:54:50.646568Z"
    }
   },
   "outputs": [
    {
     "data": {
      "text/plain": [
       "img               0\n",
       "lrx               0\n",
       "lry               0\n",
       "width             0\n",
       "height            0\n",
       "type              0\n",
       "ed                0\n",
       "doc               0\n",
       "title             0\n",
       "author            0\n",
       "author-uri        0\n",
       "notBefore-iso     0\n",
       "notAfter-iso      0\n",
       "place             0\n",
       "place-uri         0\n",
       "repository        0\n",
       "repository-uri    0\n",
       "collection        0\n",
       "idno              0\n",
       "dtype: int64"
      ]
     },
     "execution_count": 3,
     "metadata": {},
     "output_type": "execute_result"
    }
   ],
   "source": [
    "df.isnull().sum()  # return True for `None` and `NaN`; sum up null values"
   ]
  },
  {
   "cell_type": "markdown",
   "metadata": {},
   "source": [
    "Display DataFrame information"
   ]
  },
  {
   "cell_type": "code",
   "execution_count": 4,
   "metadata": {
    "execution": {
     "iopub.execute_input": "2024-09-12T13:54:50.677543Z",
     "iopub.status.busy": "2024-09-12T13:54:50.676995Z",
     "iopub.status.idle": "2024-09-12T13:54:50.685297Z",
     "shell.execute_reply": "2024-09-12T13:54:50.684623Z"
    }
   },
   "outputs": [
    {
     "name": "stdout",
     "output_type": "stream",
     "text": [
      "<class 'pandas.core.frame.DataFrame'>\n",
      "RangeIndex: 90 entries, 0 to 89\n",
      "Data columns (total 19 columns):\n",
      " #   Column          Non-Null Count  Dtype \n",
      "---  ------          --------------  ----- \n",
      " 0   img             90 non-null     int64 \n",
      " 1   lrx             90 non-null     int64 \n",
      " 2   lry             90 non-null     int64 \n",
      " 3   width           90 non-null     int64 \n",
      " 4   height          90 non-null     int64 \n",
      " 5   type            90 non-null     object\n",
      " 6   ed              90 non-null     object\n",
      " 7   doc             90 non-null     object\n",
      " 8   title           90 non-null     object\n",
      " 9   author          90 non-null     object\n",
      " 10  author-uri      90 non-null     object\n",
      " 11  notBefore-iso   90 non-null     object\n",
      " 12  notAfter-iso    90 non-null     object\n",
      " 13  place           90 non-null     object\n",
      " 14  place-uri       90 non-null     object\n",
      " 15  repository      90 non-null     object\n",
      " 16  repository-uri  90 non-null     object\n",
      " 17  collection      90 non-null     object\n",
      " 18  idno            90 non-null     object\n",
      "dtypes: int64(5), object(14)\n",
      "memory usage: 13.5+ KB\n"
     ]
    }
   ],
   "source": [
    "df.info()"
   ]
  },
  {
   "cell_type": "markdown",
   "metadata": {},
   "source": [
    "### Clean and visualize data"
   ]
  },
  {
   "cell_type": "markdown",
   "metadata": {},
   "source": [
    "Clean DataFrame"
   ]
  },
  {
   "cell_type": "code",
   "execution_count": 5,
   "metadata": {
    "execution": {
     "iopub.execute_input": "2024-09-12T13:54:50.687903Z",
     "iopub.status.busy": "2024-09-12T13:54:50.687672Z",
     "iopub.status.idle": "2024-09-12T13:54:50.698524Z",
     "shell.execute_reply": "2024-09-12T13:54:50.697925Z"
    }
   },
   "outputs": [
    {
     "data": {
      "text/html": [
       "<div>\n",
       "<style scoped>\n",
       "    .dataframe tbody tr th:only-of-type {\n",
       "        vertical-align: middle;\n",
       "    }\n",
       "\n",
       "    .dataframe tbody tr th {\n",
       "        vertical-align: top;\n",
       "    }\n",
       "\n",
       "    .dataframe thead th {\n",
       "        text-align: right;\n",
       "    }\n",
       "</style>\n",
       "<table border=\"1\" class=\"dataframe\">\n",
       "  <thead>\n",
       "    <tr style=\"text-align: right;\">\n",
       "      <th></th>\n",
       "      <th>author</th>\n",
       "      <th>title</th>\n",
       "      <th>place</th>\n",
       "      <th>notBefore-iso</th>\n",
       "    </tr>\n",
       "    <tr>\n",
       "      <th>doc</th>\n",
       "      <th></th>\n",
       "      <th></th>\n",
       "      <th></th>\n",
       "      <th></th>\n",
       "    </tr>\n",
       "  </thead>\n",
       "  <tbody>\n",
       "    <tr>\n",
       "      <th>0001</th>\n",
       "      <td>Auden, W. H.</td>\n",
       "      <td>Autograph Letter Signed W. H. Auden to Hugo Ku...</td>\n",
       "      <td>Kirchstetten</td>\n",
       "      <td>1960-07-25T00:00:00+01:00</td>\n",
       "    </tr>\n",
       "    <tr>\n",
       "      <th>0002</th>\n",
       "      <td>Auden, W. H.</td>\n",
       "      <td>Autograph Letter Signed W. H. Auden to Hugo Ku...</td>\n",
       "      <td>Kirchstetten</td>\n",
       "      <td>1964-09-08T00:00:00+01:00</td>\n",
       "    </tr>\n",
       "    <tr>\n",
       "      <th>0003</th>\n",
       "      <td>Auden, W. H.</td>\n",
       "      <td>Autograph Letter Signed W. H. Auden to Hugo Ku...</td>\n",
       "      <td>Kirchstetten</td>\n",
       "      <td>1965-05-24T00:00:00+01:00</td>\n",
       "    </tr>\n",
       "    <tr>\n",
       "      <th>0004</th>\n",
       "      <td>Auden, W. H.</td>\n",
       "      <td>Autograph Letter Signed W. H. Auden to Hugo Ku...</td>\n",
       "      <td>Kirchstetten</td>\n",
       "      <td>1964-10-07T00:00:00+01:00</td>\n",
       "    </tr>\n",
       "    <tr>\n",
       "      <th>0005</th>\n",
       "      <td>Auden, W. H.</td>\n",
       "      <td>Autograph Letter Signed W. H. Auden to Hugo Ku...</td>\n",
       "      <td>Kirchstetten</td>\n",
       "      <td>1967-05-09T00:00:00+01:00</td>\n",
       "    </tr>\n",
       "    <tr>\n",
       "      <th>0006</th>\n",
       "      <td>Auden, W. H.</td>\n",
       "      <td>Autograph Letter Signed W. H. Auden to Hugo Ku...</td>\n",
       "      <td>Kirchstetten</td>\n",
       "      <td>1967-06-05T00:00:00+01:00</td>\n",
       "    </tr>\n",
       "    <tr>\n",
       "      <th>0007</th>\n",
       "      <td>Auden, W. H.</td>\n",
       "      <td>Autograph Letter Signed W. H. Auden to Hugo Ku...</td>\n",
       "      <td>Kirchstetten</td>\n",
       "      <td>1965-07-28T00:00:00+01:00</td>\n",
       "    </tr>\n",
       "    <tr>\n",
       "      <th>0008</th>\n",
       "      <td>Auden, W. H.</td>\n",
       "      <td>Autograph Letter Signed W. H. Auden to Hugo Ku...</td>\n",
       "      <td>Berlin</td>\n",
       "      <td>1965-04-16T00:00:00+01:00</td>\n",
       "    </tr>\n",
       "    <tr>\n",
       "      <th>0009</th>\n",
       "      <td>Auden, W. H.</td>\n",
       "      <td>Autograph Letter Signed W. H. Auden to Hugo Ku...</td>\n",
       "      <td>Kirchstetten</td>\n",
       "      <td>1966-06-29T00:00:00+01:00</td>\n",
       "    </tr>\n",
       "    <tr>\n",
       "      <th>0010</th>\n",
       "      <td>Auden, W. H.</td>\n",
       "      <td>Autograph Letter Signed W. H. Auden to Christa...</td>\n",
       "      <td>Kirchstetten</td>\n",
       "      <td>1969-08-27T00:00:00+01:00</td>\n",
       "    </tr>\n",
       "    <tr>\n",
       "      <th>0011</th>\n",
       "      <td>Auden, W. H.</td>\n",
       "      <td>Autograph Letter Signed W. H. Auden to Hugo Ku...</td>\n",
       "      <td>Kirchstetten</td>\n",
       "      <td>1965-06-27T00:00:00+01:00</td>\n",
       "    </tr>\n",
       "    <tr>\n",
       "      <th>0012</th>\n",
       "      <td>Auden, W. H.</td>\n",
       "      <td>Autograph Letter Signed W. H. Auden to Hugo Ku...</td>\n",
       "      <td>Berlin</td>\n",
       "      <td>1964-11-08T00:00:00+01:00</td>\n",
       "    </tr>\n",
       "    <tr>\n",
       "      <th>0013</th>\n",
       "      <td>Auden, W. H.</td>\n",
       "      <td>Autograph Letter Signed W. H. Auden to Hugo Ku...</td>\n",
       "      <td>Kirchstetten</td>\n",
       "      <td>1969-08-20T00:00:00+01:00</td>\n",
       "    </tr>\n",
       "    <tr>\n",
       "      <th>0014</th>\n",
       "      <td>Auden, W. H.</td>\n",
       "      <td>Autograph Letter Signed W. H. Auden to Hugo Ku...</td>\n",
       "      <td>Berlin</td>\n",
       "      <td>1964-12-08T00:00:00+01:00</td>\n",
       "    </tr>\n",
       "    <tr>\n",
       "      <th>0015</th>\n",
       "      <td>Auden, W. H.</td>\n",
       "      <td>Autograph Letter Signed W. H. Auden to Hugo Ku...</td>\n",
       "      <td>Kirchstetten</td>\n",
       "      <td>1964-06-25T00:00:00+01:00</td>\n",
       "    </tr>\n",
       "    <tr>\n",
       "      <th>0016</th>\n",
       "      <td>Auden, W. H.</td>\n",
       "      <td>Autograph Letter Signed W. H. Auden to Hugo Ku...</td>\n",
       "      <td>Kirchstetten</td>\n",
       "      <td>1968-08-26T00:00:00+01:00</td>\n",
       "    </tr>\n",
       "    <tr>\n",
       "      <th>0017</th>\n",
       "      <td>Auden, W. H.</td>\n",
       "      <td>Autograph Letter Signed W. H. Auden to Hugo Ku...</td>\n",
       "      <td>Kirchstetten</td>\n",
       "      <td>1965-08-16T00:00:00+01:00</td>\n",
       "    </tr>\n",
       "    <tr>\n",
       "      <th>0018</th>\n",
       "      <td>Auden, W. H.</td>\n",
       "      <td>Autograph Letter Signed W. H. Auden to Hugo Ku...</td>\n",
       "      <td>Kirchstetten</td>\n",
       "      <td>1964-06-19T00:00:00+01:00</td>\n",
       "    </tr>\n",
       "    <tr>\n",
       "      <th>0019</th>\n",
       "      <td>Auden, W. H.</td>\n",
       "      <td>Autograph Letter Signed W. H. Auden to Hugo Ku...</td>\n",
       "      <td>Kirchstetten</td>\n",
       "      <td>1966-05-04T00:00:00+01:00</td>\n",
       "    </tr>\n",
       "    <tr>\n",
       "      <th>0020</th>\n",
       "      <td>Auden, W. H.</td>\n",
       "      <td>Autograph Letter Signed W. H. Auden to Hugo Ku...</td>\n",
       "      <td>Kirchstetten</td>\n",
       "      <td>1965-08-04T00:00:00+01:00</td>\n",
       "    </tr>\n",
       "    <tr>\n",
       "      <th>0021</th>\n",
       "      <td>Auden, W. H.</td>\n",
       "      <td>Autograph Letter Signed W. H. Auden to Hugo Ku...</td>\n",
       "      <td>Kirchstetten</td>\n",
       "      <td>1964-09-16T00:00:00+01:00</td>\n",
       "    </tr>\n",
       "    <tr>\n",
       "      <th>0022</th>\n",
       "      <td>Auden, W. H.</td>\n",
       "      <td>Autograph Letter Signed W. H. Auden to Hugo Ku...</td>\n",
       "      <td>Kirchstetten</td>\n",
       "      <td>1964-09-28T00:00:00+01:00</td>\n",
       "    </tr>\n",
       "    <tr>\n",
       "      <th>0023</th>\n",
       "      <td>Auden, W. H.</td>\n",
       "      <td>Autograph Letter Signed W. H. Auden to Hugo Ku...</td>\n",
       "      <td>Kirchstetten</td>\n",
       "      <td>1964-06-19T00:00:00+01:00</td>\n",
       "    </tr>\n",
       "  </tbody>\n",
       "</table>\n",
       "</div>"
      ],
      "text/plain": [
       "            author                                              title  \\\n",
       "doc                                                                     \n",
       "0001  Auden, W. H.  Autograph Letter Signed W. H. Auden to Hugo Ku...   \n",
       "0002  Auden, W. H.  Autograph Letter Signed W. H. Auden to Hugo Ku...   \n",
       "0003  Auden, W. H.  Autograph Letter Signed W. H. Auden to Hugo Ku...   \n",
       "0004  Auden, W. H.  Autograph Letter Signed W. H. Auden to Hugo Ku...   \n",
       "0005  Auden, W. H.  Autograph Letter Signed W. H. Auden to Hugo Ku...   \n",
       "0006  Auden, W. H.  Autograph Letter Signed W. H. Auden to Hugo Ku...   \n",
       "0007  Auden, W. H.  Autograph Letter Signed W. H. Auden to Hugo Ku...   \n",
       "0008  Auden, W. H.  Autograph Letter Signed W. H. Auden to Hugo Ku...   \n",
       "0009  Auden, W. H.  Autograph Letter Signed W. H. Auden to Hugo Ku...   \n",
       "0010  Auden, W. H.  Autograph Letter Signed W. H. Auden to Christa...   \n",
       "0011  Auden, W. H.  Autograph Letter Signed W. H. Auden to Hugo Ku...   \n",
       "0012  Auden, W. H.  Autograph Letter Signed W. H. Auden to Hugo Ku...   \n",
       "0013  Auden, W. H.  Autograph Letter Signed W. H. Auden to Hugo Ku...   \n",
       "0014  Auden, W. H.  Autograph Letter Signed W. H. Auden to Hugo Ku...   \n",
       "0015  Auden, W. H.  Autograph Letter Signed W. H. Auden to Hugo Ku...   \n",
       "0016  Auden, W. H.  Autograph Letter Signed W. H. Auden to Hugo Ku...   \n",
       "0017  Auden, W. H.  Autograph Letter Signed W. H. Auden to Hugo Ku...   \n",
       "0018  Auden, W. H.  Autograph Letter Signed W. H. Auden to Hugo Ku...   \n",
       "0019  Auden, W. H.  Autograph Letter Signed W. H. Auden to Hugo Ku...   \n",
       "0020  Auden, W. H.  Autograph Letter Signed W. H. Auden to Hugo Ku...   \n",
       "0021  Auden, W. H.  Autograph Letter Signed W. H. Auden to Hugo Ku...   \n",
       "0022  Auden, W. H.  Autograph Letter Signed W. H. Auden to Hugo Ku...   \n",
       "0023  Auden, W. H.  Autograph Letter Signed W. H. Auden to Hugo Ku...   \n",
       "\n",
       "             place              notBefore-iso  \n",
       "doc                                            \n",
       "0001  Kirchstetten  1960-07-25T00:00:00+01:00  \n",
       "0002  Kirchstetten  1964-09-08T00:00:00+01:00  \n",
       "0003  Kirchstetten  1965-05-24T00:00:00+01:00  \n",
       "0004  Kirchstetten  1964-10-07T00:00:00+01:00  \n",
       "0005  Kirchstetten  1967-05-09T00:00:00+01:00  \n",
       "0006  Kirchstetten  1967-06-05T00:00:00+01:00  \n",
       "0007  Kirchstetten  1965-07-28T00:00:00+01:00  \n",
       "0008        Berlin  1965-04-16T00:00:00+01:00  \n",
       "0009  Kirchstetten  1966-06-29T00:00:00+01:00  \n",
       "0010  Kirchstetten  1969-08-27T00:00:00+01:00  \n",
       "0011  Kirchstetten  1965-06-27T00:00:00+01:00  \n",
       "0012        Berlin  1964-11-08T00:00:00+01:00  \n",
       "0013  Kirchstetten  1969-08-20T00:00:00+01:00  \n",
       "0014        Berlin  1964-12-08T00:00:00+01:00  \n",
       "0015  Kirchstetten  1964-06-25T00:00:00+01:00  \n",
       "0016  Kirchstetten  1968-08-26T00:00:00+01:00  \n",
       "0017  Kirchstetten  1965-08-16T00:00:00+01:00  \n",
       "0018  Kirchstetten  1964-06-19T00:00:00+01:00  \n",
       "0019  Kirchstetten  1966-05-04T00:00:00+01:00  \n",
       "0020  Kirchstetten  1965-08-04T00:00:00+01:00  \n",
       "0021  Kirchstetten  1964-09-16T00:00:00+01:00  \n",
       "0022  Kirchstetten  1964-09-28T00:00:00+01:00  \n",
       "0023  Kirchstetten  1964-06-19T00:00:00+01:00  "
      ]
     },
     "execution_count": 5,
     "metadata": {},
     "output_type": "execute_result"
    }
   ],
   "source": [
    "df_clean = df.drop_duplicates(subset='doc')[['doc', 'author', 'title', 'place', 'notBefore-iso']]  # drop subsequent rows with duplicate values in doc column\n",
    "\n",
    "df_clean.set_index('doc', inplace=True)  # set doc values as index in cleaned dataframe\n",
    "\n",
    "pd.set_option('display.max_rows', None)\n",
    "\n",
    "df_clean  # print clean one-row-per-document dataframe\n"
   ]
  },
  {
   "cell_type": "markdown",
   "metadata": {},
   "source": [
    "Convert date strings to datetime objects"
   ]
  },
  {
   "cell_type": "code",
   "execution_count": 6,
   "metadata": {
    "execution": {
     "iopub.execute_input": "2024-09-12T13:54:50.700847Z",
     "iopub.status.busy": "2024-09-12T13:54:50.700642Z",
     "iopub.status.idle": "2024-09-12T13:54:50.708097Z",
     "shell.execute_reply": "2024-09-12T13:54:50.707571Z"
    }
   },
   "outputs": [
    {
     "data": {
      "text/plain": [
       "np.int64(0)"
      ]
     },
     "execution_count": 6,
     "metadata": {},
     "output_type": "execute_result"
    }
   ],
   "source": [
    "df_clean['notBefore-iso'] = pd.to_datetime(df_clean['notBefore-iso'], errors='coerce')  # convert strings in notBefore-iso column to datetime objects; replace invalid string values with NaT values\n",
    "\n",
    "df_clean['notBefore-iso'].isnull().sum()  # check for NaT values"
   ]
  },
  {
   "cell_type": "markdown",
   "metadata": {},
   "source": [
    "Resample DataFrame"
   ]
  },
  {
   "cell_type": "code",
   "execution_count": 7,
   "metadata": {
    "execution": {
     "iopub.execute_input": "2024-09-12T13:54:50.710446Z",
     "iopub.status.busy": "2024-09-12T13:54:50.710261Z",
     "iopub.status.idle": "2024-09-12T13:54:50.717908Z",
     "shell.execute_reply": "2024-09-12T13:54:50.717334Z"
    }
   },
   "outputs": [],
   "source": [
    "df_clean.set_index('notBefore-iso', inplace=True)  # set date values as index in cleaned dataframe\n",
    "\n",
    "monthly_counts = df_clean.resample('ME').size()  # resample into groups by month; count document number per group in pandas series\n",
    "\n",
    "monthly_counts = monthly_counts.fillna(0)  # replace NULL values in series with value 0"
   ]
  },
  {
   "cell_type": "markdown",
   "metadata": {},
   "source": [
    "Plot documents per month"
   ]
  },
  {
   "cell_type": "code",
   "execution_count": 8,
   "metadata": {
    "execution": {
     "iopub.execute_input": "2024-09-12T13:54:50.720526Z",
     "iopub.status.busy": "2024-09-12T13:54:50.720100Z",
     "iopub.status.idle": "2024-09-12T13:54:50.893251Z",
     "shell.execute_reply": "2024-09-12T13:54:50.892579Z"
    }
   },
   "outputs": [
    {
     "data": {
      "image/png": "[encoded data removed]",
      "text/plain": [
       "<Figure size 1000x500 with 1 Axes>"
      ]
     },
     "metadata": {},
     "output_type": "display_data"
    }
   ],
   "source": [
    "plt.figure(figsize=(10, 5))  # initialize figure with dimensions in inches\n",
    "\n",
    "monthly_counts[monthly_counts > 0].plot(kind='line', marker='.', linestyle='None', color='c')  # plot series in line plot; setting point markers, no lines, cyan color\n",
    "\n",
    "plt.gca().yaxis.set_major_locator(plt.MaxNLocator(integer=True))  # retrieve axes; set major y-axis ticks to show integers\n",
    "\n",
    "# add labels\n",
    "plt.title('number of documents per month')\n",
    "plt.xlabel('time')\n",
    "plt.ylabel('number')\n",
    "\n",
    "\n",
    "plt.grid(True)  # display grid lines\n",
    "\n",
    "plt.tight_layout()  # automatically adjust spacing between figure elements\n",
    "\n",
    "# Show the plot\n",
    "plt.show()  # display plot"
   ]
  }
 ],
 "metadata": {
  "kernelspec": {
   "display_name": "Python 3",
   "language": "python",
   "name": "python3"
  },
  "language_info": {
   "codemirror_mode": {
    "name": "ipython",
    "version": 3
   },
   "file_extension": ".py",
   "mimetype": "text/x-python",
   "name": "python",
   "nbconvert_exporter": "python",
   "pygments_lexer": "ipython3",
   "version": "3.10.12"
  }
 },
 "nbformat": 4,
 "nbformat_minor": 2
}
